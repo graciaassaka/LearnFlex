{
 "cells": [
  {
   "cell_type": "code",
   "metadata": {
    "collapsed": true,
    "ExecuteTime": {
     "end_time": "2024-12-10T03:20:48.980458100Z",
     "start_time": "2024-12-10T03:20:48.825930300Z"
    }
   },
   "source": [
    "private fun updateParentTimestamps(path: String) {\n",
    "    val segments = path.split(\"/\")\n",
    "\n",
    "    for (endIndex in segments.size downTo 0 step 2) {\n",
    "        println(endIndex)\n",
    "        val parentPath = segments.take(endIndex).joinToString(\"/\")\n",
    "        println(parentPath)\n",
    "    }\n",
    "}\n",
    "\n",
    "updateParentTimestamps(\"profiles/123/curricula/456/modules/789/lessons/123\")"
   ],
   "outputs": [
    {
     "name": "stdout",
     "output_type": "stream",
     "text": [
      "8\r\n",
      "profiles/123/curricula/456/modules/789/lessons/123\r\n",
      "6\r\n",
      "profiles/123/curricula/456/modules/789\r\n",
      "4\r\n",
      "profiles/123/curricula/456\r\n",
      "2\r\n",
      "profiles/123\r\n",
      "0\r\n",
      "\r\n"
     ]
    }
   ],
   "execution_count": 9
  },
  {
   "metadata": {},
   "cell_type": "code",
   "outputs": [],
   "execution_count": null,
   "source": ""
  }
 ],
 "metadata": {
  "kernelspec": {
   "display_name": "Kotlin",
   "language": "kotlin",
   "name": "kotlin"
  },
  "language_info": {
   "name": "kotlin",
   "version": "1.9.23",
   "mimetype": "text/x-kotlin",
   "file_extension": ".kt",
   "pygments_lexer": "kotlin",
   "codemirror_mode": "text/x-kotlin",
   "nbconvert_exporter": ""
  }
 },
 "nbformat": 4,
 "nbformat_minor": 0
}
