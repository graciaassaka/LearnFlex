{
 "cells": [
  {
   "metadata": {
    "ExecuteTime": {
     "end_time": "2025-01-11T16:39:26.290234300Z",
     "start_time": "2025-01-11T16:39:26.017910700Z"
    }
   },
   "cell_type": "code",
   "source": [
    "import kotlinx.serialization.Serializable\n",
    "import kotlinx.serialization.json.Json\n",
    "\n",
    "@Serializable\n",
    "data class ItemWrapper(val items: List<String>)\n",
    "\n",
    "val json = \"\"\"{\n",
    "  \"items\": [\n",
    "    \"Test: One, Two, Three\",\n",
    "    \"Another string with, commas inside it\"\n",
    "  ]\n",
    "}\"\"\"\n",
    "\n",
    "Json.decodeFromString<ItemWrapper>(json).items.forEachIndexed { index, item ->\n",
    "    println(\"items[$index] = \\\"$item\\\"\")\n",
    "}\n"
   ],
   "outputs": [
    {
     "name": "stdout",
     "output_type": "stream",
     "text": [
      "items[0] = \"Test: One, Two, Three\"\r\n",
      "items[1] = \"Another string with, commas inside it\"\r\n"
     ]
    }
   ],
   "execution_count": 9
  },
  {
   "metadata": {
    "ExecuteTime": {
     "end_time": "2025-01-11T16:38:22.993441100Z",
     "start_time": "2025-01-11T16:38:22.701260900Z"
    }
   },
   "cell_type": "code",
   "source": [
    "import kotlinx.serialization.Serializable\n",
    "import kotlinx.serialization.json.Json\n",
    "\n",
    "@Serializable\n",
    "data class ItemWrapper(val items: List<String>)\n",
    "\n",
    "fun main() {\n",
    "    val json = \"\"\"\n",
    "        {\n",
    "          \"items\": [\n",
    "            \"One, Two, Three\",\n",
    "            \"Another string with, commas inside it\"\n",
    "          ]\n",
    "        }\n",
    "    \"\"\"\n",
    "\n",
    "    val wrapper = Json.decodeFromString<ItemWrapper>(json)\n",
    "\n",
    "    // 1) Print the data class directly:\n",
    "    println(wrapper)\n",
    "\n",
    "    // 2) Check the actual size of the `items` list:\n",
    "    println(\"Size of items = ${wrapper.items.size}\")\n",
    "\n",
    "    // 3) Print each item with indexes\n",
    "    wrapper.items.forEachIndexed { index, item ->\n",
    "        println(\"items[$index] = \\\"$item\\\"\")\n",
    "    }\n",
    "}\n",
    "main()"
   ],
   "outputs": [
    {
     "name": "stdout",
     "output_type": "stream",
     "text": [
      "ItemWrapper(items=[One, Two, Three, Another string with, commas inside it])\r\n",
      "Size of items = 2\r\n",
      "items[0] = \"One, Two, Three\"\r\n",
      "items[1] = \"Another string with, commas inside it\"\r\n"
     ]
    }
   ],
   "execution_count": 7
  },
  {
   "metadata": {},
   "cell_type": "code",
   "outputs": [],
   "execution_count": null,
   "source": ""
  }
 ],
 "metadata": {
  "kernelspec": {
   "display_name": "Kotlin",
   "language": "kotlin",
   "name": "kotlin"
  },
  "language_info": {
   "name": "kotlin",
   "version": "1.9.23",
   "mimetype": "text/x-kotlin",
   "file_extension": ".kt",
   "pygments_lexer": "kotlin",
   "codemirror_mode": "text/x-kotlin",
   "nbconvert_exporter": ""
  }
 },
 "nbformat": 4,
 "nbformat_minor": 0
}
